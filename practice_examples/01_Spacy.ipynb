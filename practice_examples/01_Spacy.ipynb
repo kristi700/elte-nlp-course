{
  "cells": [
    {
      "cell_type": "markdown",
      "metadata": {
        "id": "k-9QBCl9lDov"
      },
      "source": [
        "# NLP Pipelines\n",
        "In this lab: spaCy   \n",
        "Notable other mentions: **NLTK** (next week), **CoreNLP** (a.k.a. Stanford NLP)   \n",
        "Hungarian specific: **magyarlanc**, other resources: https://github.com/oroszgy/awesome-hungarian-nlp"
      ]
    },
    {
      "cell_type": "markdown",
      "metadata": {
        "id": "7n2ZvXczngQP"
      },
      "source": [
        "# Installation\n",
        "pip install spacy\n",
        "\n",
        "# Download\n",
        "English pipeline models:   \n",
        "python -m spacy download en_core_web_sm   \n",
        "Details: https://spacy.io/usage/models"
      ]
    },
    {
      "cell_type": "code",
      "execution_count": 40,
      "metadata": {
        "colab": {
          "base_uri": "https://localhost:8080/"
        },
        "id": "2KMBYHjLjeQI",
        "outputId": "d3a42de3-484b-4d42-a74c-a61fc6434cf7"
      },
      "outputs": [
        {
          "name": "stdout",
          "output_type": "stream",
          "text": [
            "Sat Sep 13 11:44:45 2025       \n",
            "+-----------------------------------------------------------------------------------------+\n",
            "| NVIDIA-SMI 550.144.03             Driver Version: 550.144.03     CUDA Version: 12.4     |\n",
            "|-----------------------------------------+------------------------+----------------------+\n",
            "| GPU  Name                 Persistence-M | Bus-Id          Disp.A | Volatile Uncorr. ECC |\n",
            "| Fan  Temp   Perf          Pwr:Usage/Cap |           Memory-Usage | GPU-Util  Compute M. |\n",
            "|                                         |                        |               MIG M. |\n",
            "|=========================================+========================+======================|\n",
            "|   0  NVIDIA GeForce RTX 3090        Off |   00000000:01:00.0  On |                  N/A |\n",
            "|  0%   39C    P8             30W /  420W |     503MiB /  24576MiB |     32%      Default |\n",
            "|                                         |                        |                  N/A |\n",
            "+-----------------------------------------+------------------------+----------------------+\n",
            "                                                                                         \n",
            "+-----------------------------------------------------------------------------------------+\n",
            "| Processes:                                                                              |\n",
            "|  GPU   GI   CI        PID   Type   Process name                              GPU Memory |\n",
            "|        ID   ID                                                               Usage      |\n",
            "|=========================================================================================|\n",
            "+-----------------------------------------------------------------------------------------+\n"
          ]
        }
      ],
      "source": [
        "!nvidia-smi"
      ]
    },
    {
      "cell_type": "code",
      "execution_count": 41,
      "metadata": {
        "colab": {
          "base_uri": "https://localhost:8080/",
          "height": 1000
        },
        "id": "5Sd5ZVKhq98s",
        "outputId": "66fd8cb6-3e75-46f9-ac70-c5b10199c28b"
      },
      "outputs": [
        {
          "name": "stdout",
          "output_type": "stream",
          "text": [
            "Requirement already satisfied: pip in /opt/conda/lib/python3.10/site-packages (25.2)\n",
            "Requirement already satisfied: setuptools in /opt/conda/lib/python3.10/site-packages (80.9.0)\n",
            "Requirement already satisfied: wheel in /opt/conda/lib/python3.10/site-packages (0.45.1)\n",
            "\u001b[33mWARNING: Running pip as the 'root' user can result in broken permissions and conflicting behaviour with the system package manager, possibly rendering your system unusable. It is recommended to use a virtual environment instead: https://pip.pypa.io/warnings/venv. Use the --root-user-action option if you know what you are doing and want to suppress this warning.\u001b[0m\u001b[33m\n",
            "\u001b[0mRequirement already satisfied: spacy[cuda120] in /opt/conda/lib/python3.10/site-packages (3.8.7)\n",
            "\u001b[33mWARNING: spacy 3.8.7 does not provide the extra 'cuda120'\u001b[0m\u001b[33m\n",
            "\u001b[0mRequirement already satisfied: spacy-legacy<3.1.0,>=3.0.11 in /opt/conda/lib/python3.10/site-packages (from spacy[cuda120]) (3.0.12)\n",
            "Requirement already satisfied: spacy-loggers<2.0.0,>=1.0.0 in /opt/conda/lib/python3.10/site-packages (from spacy[cuda120]) (1.0.5)\n",
            "Requirement already satisfied: murmurhash<1.1.0,>=0.28.0 in /opt/conda/lib/python3.10/site-packages (from spacy[cuda120]) (1.0.13)\n",
            "Requirement already satisfied: cymem<2.1.0,>=2.0.2 in /opt/conda/lib/python3.10/site-packages (from spacy[cuda120]) (2.0.11)\n",
            "Requirement already satisfied: preshed<3.1.0,>=3.0.2 in /opt/conda/lib/python3.10/site-packages (from spacy[cuda120]) (3.0.10)\n",
            "Requirement already satisfied: thinc<8.4.0,>=8.3.4 in /opt/conda/lib/python3.10/site-packages (from spacy[cuda120]) (8.3.6)\n",
            "Requirement already satisfied: wasabi<1.2.0,>=0.9.1 in /opt/conda/lib/python3.10/site-packages (from spacy[cuda120]) (1.1.3)\n",
            "Requirement already satisfied: srsly<3.0.0,>=2.4.3 in /opt/conda/lib/python3.10/site-packages (from spacy[cuda120]) (2.5.1)\n",
            "Requirement already satisfied: catalogue<2.1.0,>=2.0.6 in /opt/conda/lib/python3.10/site-packages (from spacy[cuda120]) (2.0.10)\n",
            "Requirement already satisfied: weasel<0.5.0,>=0.1.0 in /opt/conda/lib/python3.10/site-packages (from spacy[cuda120]) (0.4.1)\n",
            "Requirement already satisfied: typer<1.0.0,>=0.3.0 in /opt/conda/lib/python3.10/site-packages (from spacy[cuda120]) (0.17.4)\n",
            "Requirement already satisfied: tqdm<5.0.0,>=4.38.0 in /opt/conda/lib/python3.10/site-packages (from spacy[cuda120]) (4.65.0)\n",
            "Requirement already satisfied: numpy>=1.19.0 in /opt/conda/lib/python3.10/site-packages (from spacy[cuda120]) (2.2.6)\n",
            "Requirement already satisfied: requests<3.0.0,>=2.13.0 in /opt/conda/lib/python3.10/site-packages (from spacy[cuda120]) (2.31.0)\n",
            "Requirement already satisfied: pydantic!=1.8,!=1.8.1,<3.0.0,>=1.7.4 in /opt/conda/lib/python3.10/site-packages (from spacy[cuda120]) (2.11.8)\n",
            "Requirement already satisfied: jinja2 in /opt/conda/lib/python3.10/site-packages (from spacy[cuda120]) (3.1.3)\n",
            "Requirement already satisfied: setuptools in /opt/conda/lib/python3.10/site-packages (from spacy[cuda120]) (80.9.0)\n",
            "Requirement already satisfied: packaging>=20.0 in /opt/conda/lib/python3.10/site-packages (from spacy[cuda120]) (23.1)\n",
            "Requirement already satisfied: langcodes<4.0.0,>=3.2.0 in /opt/conda/lib/python3.10/site-packages (from spacy[cuda120]) (3.5.0)\n",
            "Requirement already satisfied: language-data>=1.2 in /opt/conda/lib/python3.10/site-packages (from langcodes<4.0.0,>=3.2.0->spacy[cuda120]) (1.3.0)\n",
            "Requirement already satisfied: annotated-types>=0.6.0 in /opt/conda/lib/python3.10/site-packages (from pydantic!=1.8,!=1.8.1,<3.0.0,>=1.7.4->spacy[cuda120]) (0.7.0)\n",
            "Requirement already satisfied: pydantic-core==2.33.2 in /opt/conda/lib/python3.10/site-packages (from pydantic!=1.8,!=1.8.1,<3.0.0,>=1.7.4->spacy[cuda120]) (2.33.2)\n",
            "Requirement already satisfied: typing-extensions>=4.12.2 in /opt/conda/lib/python3.10/site-packages (from pydantic!=1.8,!=1.8.1,<3.0.0,>=1.7.4->spacy[cuda120]) (4.14.0)\n",
            "Requirement already satisfied: typing-inspection>=0.4.0 in /opt/conda/lib/python3.10/site-packages (from pydantic!=1.8,!=1.8.1,<3.0.0,>=1.7.4->spacy[cuda120]) (0.4.1)\n",
            "Requirement already satisfied: charset-normalizer<4,>=2 in /opt/conda/lib/python3.10/site-packages (from requests<3.0.0,>=2.13.0->spacy[cuda120]) (2.0.4)\n",
            "Requirement already satisfied: idna<4,>=2.5 in /opt/conda/lib/python3.10/site-packages (from requests<3.0.0,>=2.13.0->spacy[cuda120]) (3.4)\n",
            "Requirement already satisfied: urllib3<3,>=1.21.1 in /opt/conda/lib/python3.10/site-packages (from requests<3.0.0,>=2.13.0->spacy[cuda120]) (2.1.0)\n",
            "Requirement already satisfied: certifi>=2017.4.17 in /opt/conda/lib/python3.10/site-packages (from requests<3.0.0,>=2.13.0->spacy[cuda120]) (2025.8.3)\n",
            "Requirement already satisfied: blis<1.4.0,>=1.3.0 in /opt/conda/lib/python3.10/site-packages (from thinc<8.4.0,>=8.3.4->spacy[cuda120]) (1.3.0)\n",
            "Requirement already satisfied: confection<1.0.0,>=0.0.1 in /opt/conda/lib/python3.10/site-packages (from thinc<8.4.0,>=8.3.4->spacy[cuda120]) (0.1.5)\n",
            "Requirement already satisfied: click>=8.0.0 in /opt/conda/lib/python3.10/site-packages (from typer<1.0.0,>=0.3.0->spacy[cuda120]) (8.1.7)\n",
            "Requirement already satisfied: shellingham>=1.3.0 in /opt/conda/lib/python3.10/site-packages (from typer<1.0.0,>=0.3.0->spacy[cuda120]) (1.5.4)\n",
            "Requirement already satisfied: rich>=10.11.0 in /opt/conda/lib/python3.10/site-packages (from typer<1.0.0,>=0.3.0->spacy[cuda120]) (14.0.0)\n",
            "Requirement already satisfied: cloudpathlib<1.0.0,>=0.7.0 in /opt/conda/lib/python3.10/site-packages (from weasel<0.5.0,>=0.1.0->spacy[cuda120]) (0.22.0)\n",
            "Requirement already satisfied: smart-open<8.0.0,>=5.2.1 in /opt/conda/lib/python3.10/site-packages (from weasel<0.5.0,>=0.1.0->spacy[cuda120]) (7.3.1)\n",
            "Requirement already satisfied: wrapt in /opt/conda/lib/python3.10/site-packages (from smart-open<8.0.0,>=5.2.1->weasel<0.5.0,>=0.1.0->spacy[cuda120]) (1.17.3)\n",
            "Requirement already satisfied: marisa-trie>=1.1.0 in /opt/conda/lib/python3.10/site-packages (from language-data>=1.2->langcodes<4.0.0,>=3.2.0->spacy[cuda120]) (1.3.1)\n",
            "Requirement already satisfied: markdown-it-py>=2.2.0 in /opt/conda/lib/python3.10/site-packages (from rich>=10.11.0->typer<1.0.0,>=0.3.0->spacy[cuda120]) (3.0.0)\n",
            "Requirement already satisfied: pygments<3.0.0,>=2.13.0 in /opt/conda/lib/python3.10/site-packages (from rich>=10.11.0->typer<1.0.0,>=0.3.0->spacy[cuda120]) (2.19.1)\n",
            "Requirement already satisfied: mdurl~=0.1 in /opt/conda/lib/python3.10/site-packages (from markdown-it-py>=2.2.0->rich>=10.11.0->typer<1.0.0,>=0.3.0->spacy[cuda120]) (0.1.2)\n",
            "Requirement already satisfied: MarkupSafe>=2.0 in /opt/conda/lib/python3.10/site-packages (from jinja2->spacy[cuda120]) (2.1.3)\n",
            "\u001b[33mWARNING: Running pip as the 'root' user can result in broken permissions and conflicting behaviour with the system package manager, possibly rendering your system unusable. It is recommended to use a virtual environment instead: https://pip.pypa.io/warnings/venv. Use the --root-user-action option if you know what you are doing and want to suppress this warning.\u001b[0m\u001b[33m\n",
            "\u001b[0m"
          ]
        }
      ],
      "source": [
        "#Update Spacy for 3.0 functionality (new features), install GPU support for better performance\n",
        "!pip install -U pip setuptools wheel\n",
        "!pip install --upgrade 'spacy[cuda120]'"
      ]
    },
    {
      "cell_type": "code",
      "execution_count": 42,
      "metadata": {
        "colab": {
          "base_uri": "https://localhost:8080/"
        },
        "id": "YYG2E8KMoC8C",
        "outputId": "d64e3784-0fcb-4bc2-d68e-c5b7df166d3e"
      },
      "outputs": [
        {
          "name": "stdout",
          "output_type": "stream",
          "text": [
            "Collecting en-core-web-sm==3.8.0\n",
            "  Downloading https://github.com/explosion/spacy-models/releases/download/en_core_web_sm-3.8.0/en_core_web_sm-3.8.0-py3-none-any.whl (12.8 MB)\n",
            "\u001b[2K     \u001b[90m━━━━━━━━━━━━━━━━━━━━━━━━━━━━━━━━━━━━━━━━\u001b[0m \u001b[32m12.8/12.8 MB\u001b[0m \u001b[31m58.6 MB/s\u001b[0m  \u001b[33m0:00:00\u001b[0meta \u001b[36m0:00:01\u001b[0m\n",
            "\u001b[?25h\u001b[33mWARNING: Running pip as the 'root' user can result in broken permissions and conflicting behaviour with the system package manager, possibly rendering your system unusable. It is recommended to use a virtual environment instead: https://pip.pypa.io/warnings/venv. Use the --root-user-action option if you know what you are doing and want to suppress this warning.\u001b[0m\u001b[33m\n",
            "\u001b[0m\u001b[38;5;2m✔ Download and installation successful\u001b[0m\n",
            "You can now load the package via spacy.load('en_core_web_sm')\n"
          ]
        }
      ],
      "source": [
        "!python -m spacy download en_core_web_sm"
      ]
    },
    {
      "cell_type": "code",
      "execution_count": 43,
      "metadata": {
        "id": "NNxtBhYWjUEB"
      },
      "outputs": [],
      "source": [
        "import spacy\n",
        "import pandas as pd"
      ]
    },
    {
      "cell_type": "markdown",
      "metadata": {
        "id": "8PQ6bH-Roefz"
      },
      "source": [
        "# spaCy pipeline schematic\n",
        "\n",
        "<img src=\"https://spacy.io/images/pipeline-design.svg\">\n",
        "\n",
        "**Tokenizer**: \"segment an input character sequence into\n",
        "small meaningful units\" (Includes sentence splitter)\n",
        "\n",
        "**Tagger**: \"determining Part-of-speech (POS) tags\"\n",
        "\n",
        "**Parser**: \"parsing syntactical dependencies\";   \n",
        "word D depends on word H if:\n",
        "- D modifies the meaning of H\n",
        "- D can be omitted from the sentence keeping H (but H cannot be omitted while keeping D)\n",
        "\n",
        "**Ner**: \"the task of finding\n",
        "expressions in the input text that are naming entities and\n",
        "tagging them with the corresponding entity type\"\n",
        "\n",
        "**Others**: ?"
      ]
    },
    {
      "cell_type": "markdown",
      "metadata": {
        "id": "6xmHdGaptxcJ"
      },
      "source": [
        "# Pipeline management"
      ]
    },
    {
      "cell_type": "code",
      "execution_count": 44,
      "metadata": {
        "id": "3naooIlenbXp"
      },
      "outputs": [],
      "source": [
        "# Load pipeline\n",
        "\n",
        "# *EXTRA CODE*: require_gpu() is called to force spacy to use GPU\n",
        "#spacy.require_gpu()\n",
        "nlp = spacy.load(\"en_core_web_sm\")"
      ]
    },
    {
      "cell_type": "code",
      "execution_count": 45,
      "metadata": {
        "colab": {
          "base_uri": "https://localhost:8080/"
        },
        "id": "72Nq3oHlp_H8",
        "outputId": "fbb0711a-09b0-4148-d58a-dcf2eafc9061"
      },
      "outputs": [
        {
          "name": "stdout",
          "output_type": "stream",
          "text": [
            "['tok2vec', 'tagger', 'parser', 'attribute_ruler', 'lemmatizer', 'ner']\n"
          ]
        }
      ],
      "source": [
        "# Check pipeline elements\n",
        "print(nlp.pipe_names)"
      ]
    },
    {
      "cell_type": "code",
      "execution_count": 46,
      "metadata": {
        "colab": {
          "base_uri": "https://localhost:8080/"
        },
        "id": "H3MMmT_aqEq6",
        "outputId": "549de2f3-aed2-4ded-f7d3-98dfe4716b64"
      },
      "outputs": [
        {
          "name": "stdout",
          "output_type": "stream",
          "text": [
            "['tok2vec', 'tagger', 'attribute_ruler', 'lemmatizer']\n",
            "['tok2vec', 'tagger', 'parser', 'attribute_ruler', 'lemmatizer']\n"
          ]
        }
      ],
      "source": [
        "# Control loaded elements\n",
        "nlp = spacy.load(\"en_core_web_sm\", disable=[\"parser\"], exclude=[\"ner\"])\n",
        "print(nlp.pipe_names)\n",
        "\n",
        "nlp.enable_pipe(\"parser\")\n",
        "print(nlp.pipe_names)"
      ]
    },
    {
      "cell_type": "code",
      "execution_count": 47,
      "metadata": {
        "colab": {
          "base_uri": "https://localhost:8080/"
        },
        "id": "D0uLR2tBqe8p",
        "outputId": "95f6e302-cdf7-45d5-a971-d37a33e0e13c"
      },
      "outputs": [
        {
          "name": "stdout",
          "output_type": "stream",
          "text": [
            "['tok2vec', 'tagger', 'parser', 'attribute_ruler', 'lemmatizer', 'ner']\n"
          ]
        }
      ],
      "source": [
        "# Let's load the full pipeline\n",
        "# tok2vec - required transformation for neural network based components\n",
        "# attribute_ruler - handles exception rules, enhances tagger outputs\n",
        "nlp = spacy.load(\"en_core_web_sm\")\n",
        "print(nlp.pipe_names)"
      ]
    },
    {
      "cell_type": "markdown",
      "metadata": {
        "id": "bdnv7-iBuvvE"
      },
      "source": [
        "# Inference"
      ]
    },
    {
      "cell_type": "code",
      "execution_count": 48,
      "metadata": {
        "colab": {
          "base_uri": "https://localhost:8080/"
        },
        "id": "eln0unhbue9y",
        "outputId": "7c00fbb4-6204-43f4-d5b1-d993d86312c0"
      },
      "outputs": [
        {
          "name": "stdout",
          "output_type": "stream",
          "text": [
            "Elisabeth grabbed 2 apples and took a bite of each.\n"
          ]
        }
      ],
      "source": [
        "text = \"Elisabeth grabbed 2 apples and took a bite of each.\"\n",
        "\n",
        "doc = nlp(text)\n",
        "print(doc)"
      ]
    },
    {
      "cell_type": "markdown",
      "metadata": {
        "id": "W01Yk5MbvXMo"
      },
      "source": [
        "## Document attributes"
      ]
    },
    {
      "cell_type": "code",
      "execution_count": 49,
      "metadata": {
        "colab": {
          "base_uri": "https://localhost:8080/"
        },
        "id": "_WaygPh0vKpp",
        "outputId": "5c821bbb-f5c9-41a3-99d5-2ead4221c39b"
      },
      "outputs": [
        {
          "name": "stdout",
          "output_type": "stream",
          "text": [
            "Elisabeth\n",
            "grabbed\n",
            "2\n",
            "apples\n",
            "and\n",
            "took\n",
            "a\n",
            "bite\n",
            "of\n",
            "each\n",
            ".\n"
          ]
        }
      ],
      "source": [
        "#tokenized\n",
        "for token in doc:\n",
        "  print(token)"
      ]
    },
    {
      "cell_type": "code",
      "execution_count": 50,
      "metadata": {
        "colab": {
          "base_uri": "https://localhost:8080/"
        },
        "id": "2DfEe3ZSvsmZ",
        "outputId": "ff49f2ca-5466-49c9-df15-6e0e983e1d11"
      },
      "outputs": [
        {
          "name": "stderr",
          "output_type": "stream",
          "text": [
            "/opt/conda/lib/python3.10/site-packages/spacy/glossary.py:20: UserWarning: [W118] Term '' not found in glossary. It may however be explained in documentation for the corpora used to train the language. Please check `nlp.meta[\"sources\"]` for any relevant links.\n",
            "  warnings.warn(Warnings.W118.format(term=term))\n"
          ]
        }
      ],
      "source": [
        "#Token parameters\n",
        "#Tag ending in _ is a string type reprezentation of a category, without _ usually returns an int\n",
        "data = \\\n",
        "[( token,         #token string\n",
        "  token.is_alpha, #contains letters only\n",
        "  token.is_punct, #punctuation\n",
        "  token.is_stop,  #stopwords\n",
        "  token.norm_,    #normailzed form\n",
        "  token.pos_,     #POS tag\n",
        "  spacy.explain(token.pos_),\n",
        "  token.tag_,     #Fine POS tag with morph info\n",
        "  spacy.explain(token.tag_),\n",
        "  token.dep_,     #Dependency type\n",
        "  spacy.explain(token.dep_),\n",
        "  token.ent_type_, #NER entity\n",
        "  spacy.explain(token.ent_type_),\n",
        "  token.lemma_,   #Lemma of the word\n",
        "  token.morph,    #morphological information\n",
        "  )for token in doc]"
      ]
    },
    {
      "cell_type": "code",
      "execution_count": 51,
      "metadata": {
        "colab": {
          "base_uri": "https://localhost:8080/",
          "height": 674
        },
        "id": "5kO189hhv9lp",
        "outputId": "b2fdd904-c9f1-44e5-f4a2-1fbed22fb910"
      },
      "outputs": [
        {
          "data": {
            "text/html": [
              "<div>\n",
              "<style scoped>\n",
              "    .dataframe tbody tr th:only-of-type {\n",
              "        vertical-align: middle;\n",
              "    }\n",
              "\n",
              "    .dataframe tbody tr th {\n",
              "        vertical-align: top;\n",
              "    }\n",
              "\n",
              "    .dataframe thead th {\n",
              "        text-align: right;\n",
              "    }\n",
              "</style>\n",
              "<table border=\"1\" class=\"dataframe\">\n",
              "  <thead>\n",
              "    <tr style=\"text-align: right;\">\n",
              "      <th></th>\n",
              "      <th>word</th>\n",
              "      <th>isalpha</th>\n",
              "      <th>ispunct</th>\n",
              "      <th>isstop</th>\n",
              "      <th>norm</th>\n",
              "      <th>pos</th>\n",
              "      <th>pos_expl</th>\n",
              "      <th>fine_pos</th>\n",
              "      <th>fine_pos_expl</th>\n",
              "      <th>dep</th>\n",
              "      <th>dep_expl</th>\n",
              "      <th>entity</th>\n",
              "      <th>entity_expl</th>\n",
              "      <th>lemma</th>\n",
              "      <th>morph</th>\n",
              "    </tr>\n",
              "  </thead>\n",
              "  <tbody>\n",
              "    <tr>\n",
              "      <th>0</th>\n",
              "      <td>Elisabeth</td>\n",
              "      <td>True</td>\n",
              "      <td>False</td>\n",
              "      <td>False</td>\n",
              "      <td>elisabeth</td>\n",
              "      <td>PROPN</td>\n",
              "      <td>proper noun</td>\n",
              "      <td>NNP</td>\n",
              "      <td>noun, proper singular</td>\n",
              "      <td>nsubj</td>\n",
              "      <td>nominal subject</td>\n",
              "      <td>PERSON</td>\n",
              "      <td>People, including fictional</td>\n",
              "      <td>Elisabeth</td>\n",
              "      <td>(Number=Sing)</td>\n",
              "    </tr>\n",
              "    <tr>\n",
              "      <th>1</th>\n",
              "      <td>grabbed</td>\n",
              "      <td>True</td>\n",
              "      <td>False</td>\n",
              "      <td>False</td>\n",
              "      <td>grabbed</td>\n",
              "      <td>VERB</td>\n",
              "      <td>verb</td>\n",
              "      <td>VBD</td>\n",
              "      <td>verb, past tense</td>\n",
              "      <td>ROOT</td>\n",
              "      <td>root</td>\n",
              "      <td></td>\n",
              "      <td>None</td>\n",
              "      <td>grab</td>\n",
              "      <td>(Tense=Past, VerbForm=Fin)</td>\n",
              "    </tr>\n",
              "    <tr>\n",
              "      <th>2</th>\n",
              "      <td>2</td>\n",
              "      <td>False</td>\n",
              "      <td>False</td>\n",
              "      <td>False</td>\n",
              "      <td>2</td>\n",
              "      <td>NUM</td>\n",
              "      <td>numeral</td>\n",
              "      <td>CD</td>\n",
              "      <td>cardinal number</td>\n",
              "      <td>nummod</td>\n",
              "      <td>numeric modifier</td>\n",
              "      <td>CARDINAL</td>\n",
              "      <td>Numerals that do not fall under another type</td>\n",
              "      <td>2</td>\n",
              "      <td>(NumType=Card)</td>\n",
              "    </tr>\n",
              "    <tr>\n",
              "      <th>3</th>\n",
              "      <td>apples</td>\n",
              "      <td>True</td>\n",
              "      <td>False</td>\n",
              "      <td>False</td>\n",
              "      <td>apples</td>\n",
              "      <td>NOUN</td>\n",
              "      <td>noun</td>\n",
              "      <td>NNS</td>\n",
              "      <td>noun, plural</td>\n",
              "      <td>dobj</td>\n",
              "      <td>direct object</td>\n",
              "      <td></td>\n",
              "      <td>None</td>\n",
              "      <td>apple</td>\n",
              "      <td>(Number=Plur)</td>\n",
              "    </tr>\n",
              "    <tr>\n",
              "      <th>4</th>\n",
              "      <td>and</td>\n",
              "      <td>True</td>\n",
              "      <td>False</td>\n",
              "      <td>True</td>\n",
              "      <td>and</td>\n",
              "      <td>CCONJ</td>\n",
              "      <td>coordinating conjunction</td>\n",
              "      <td>CC</td>\n",
              "      <td>conjunction, coordinating</td>\n",
              "      <td>cc</td>\n",
              "      <td>coordinating conjunction</td>\n",
              "      <td></td>\n",
              "      <td>None</td>\n",
              "      <td>and</td>\n",
              "      <td>(ConjType=Cmp)</td>\n",
              "    </tr>\n",
              "    <tr>\n",
              "      <th>5</th>\n",
              "      <td>took</td>\n",
              "      <td>True</td>\n",
              "      <td>False</td>\n",
              "      <td>False</td>\n",
              "      <td>took</td>\n",
              "      <td>VERB</td>\n",
              "      <td>verb</td>\n",
              "      <td>VBD</td>\n",
              "      <td>verb, past tense</td>\n",
              "      <td>conj</td>\n",
              "      <td>conjunct</td>\n",
              "      <td></td>\n",
              "      <td>None</td>\n",
              "      <td>take</td>\n",
              "      <td>(Tense=Past, VerbForm=Fin)</td>\n",
              "    </tr>\n",
              "    <tr>\n",
              "      <th>6</th>\n",
              "      <td>a</td>\n",
              "      <td>True</td>\n",
              "      <td>False</td>\n",
              "      <td>True</td>\n",
              "      <td>a</td>\n",
              "      <td>DET</td>\n",
              "      <td>determiner</td>\n",
              "      <td>DT</td>\n",
              "      <td>determiner</td>\n",
              "      <td>det</td>\n",
              "      <td>determiner</td>\n",
              "      <td></td>\n",
              "      <td>None</td>\n",
              "      <td>a</td>\n",
              "      <td>(Definite=Ind, PronType=Art)</td>\n",
              "    </tr>\n",
              "    <tr>\n",
              "      <th>7</th>\n",
              "      <td>bite</td>\n",
              "      <td>True</td>\n",
              "      <td>False</td>\n",
              "      <td>False</td>\n",
              "      <td>bite</td>\n",
              "      <td>NOUN</td>\n",
              "      <td>noun</td>\n",
              "      <td>NN</td>\n",
              "      <td>noun, singular or mass</td>\n",
              "      <td>dobj</td>\n",
              "      <td>direct object</td>\n",
              "      <td></td>\n",
              "      <td>None</td>\n",
              "      <td>bite</td>\n",
              "      <td>(Number=Sing)</td>\n",
              "    </tr>\n",
              "    <tr>\n",
              "      <th>8</th>\n",
              "      <td>of</td>\n",
              "      <td>True</td>\n",
              "      <td>False</td>\n",
              "      <td>True</td>\n",
              "      <td>of</td>\n",
              "      <td>ADP</td>\n",
              "      <td>adposition</td>\n",
              "      <td>IN</td>\n",
              "      <td>conjunction, subordinating or preposition</td>\n",
              "      <td>prep</td>\n",
              "      <td>prepositional modifier</td>\n",
              "      <td></td>\n",
              "      <td>None</td>\n",
              "      <td>of</td>\n",
              "      <td>()</td>\n",
              "    </tr>\n",
              "    <tr>\n",
              "      <th>9</th>\n",
              "      <td>each</td>\n",
              "      <td>True</td>\n",
              "      <td>False</td>\n",
              "      <td>True</td>\n",
              "      <td>each</td>\n",
              "      <td>PRON</td>\n",
              "      <td>pronoun</td>\n",
              "      <td>DT</td>\n",
              "      <td>determiner</td>\n",
              "      <td>pobj</td>\n",
              "      <td>object of preposition</td>\n",
              "      <td></td>\n",
              "      <td>None</td>\n",
              "      <td>each</td>\n",
              "      <td>()</td>\n",
              "    </tr>\n",
              "    <tr>\n",
              "      <th>10</th>\n",
              "      <td>.</td>\n",
              "      <td>False</td>\n",
              "      <td>True</td>\n",
              "      <td>False</td>\n",
              "      <td>.</td>\n",
              "      <td>PUNCT</td>\n",
              "      <td>punctuation</td>\n",
              "      <td>.</td>\n",
              "      <td>punctuation mark, sentence closer</td>\n",
              "      <td>punct</td>\n",
              "      <td>punctuation</td>\n",
              "      <td></td>\n",
              "      <td>None</td>\n",
              "      <td>.</td>\n",
              "      <td>(PunctType=Peri)</td>\n",
              "    </tr>\n",
              "  </tbody>\n",
              "</table>\n",
              "</div>"
            ],
            "text/plain": [
              "         word  isalpha  ispunct  isstop       norm    pos  \\\n",
              "0   Elisabeth     True    False   False  elisabeth  PROPN   \n",
              "1     grabbed     True    False   False    grabbed   VERB   \n",
              "2           2    False    False   False          2    NUM   \n",
              "3      apples     True    False   False     apples   NOUN   \n",
              "4         and     True    False    True        and  CCONJ   \n",
              "5        took     True    False   False       took   VERB   \n",
              "6           a     True    False    True          a    DET   \n",
              "7        bite     True    False   False       bite   NOUN   \n",
              "8          of     True    False    True         of    ADP   \n",
              "9        each     True    False    True       each   PRON   \n",
              "10          .    False     True   False          .  PUNCT   \n",
              "\n",
              "                    pos_expl fine_pos  \\\n",
              "0                proper noun      NNP   \n",
              "1                       verb      VBD   \n",
              "2                    numeral       CD   \n",
              "3                       noun      NNS   \n",
              "4   coordinating conjunction       CC   \n",
              "5                       verb      VBD   \n",
              "6                 determiner       DT   \n",
              "7                       noun       NN   \n",
              "8                 adposition       IN   \n",
              "9                    pronoun       DT   \n",
              "10               punctuation        .   \n",
              "\n",
              "                                fine_pos_expl     dep  \\\n",
              "0                       noun, proper singular   nsubj   \n",
              "1                            verb, past tense    ROOT   \n",
              "2                             cardinal number  nummod   \n",
              "3                                noun, plural    dobj   \n",
              "4                   conjunction, coordinating      cc   \n",
              "5                            verb, past tense    conj   \n",
              "6                                  determiner     det   \n",
              "7                      noun, singular or mass    dobj   \n",
              "8   conjunction, subordinating or preposition    prep   \n",
              "9                                  determiner    pobj   \n",
              "10          punctuation mark, sentence closer   punct   \n",
              "\n",
              "                    dep_expl    entity  \\\n",
              "0            nominal subject    PERSON   \n",
              "1                       root             \n",
              "2           numeric modifier  CARDINAL   \n",
              "3              direct object             \n",
              "4   coordinating conjunction             \n",
              "5                   conjunct             \n",
              "6                 determiner             \n",
              "7              direct object             \n",
              "8     prepositional modifier             \n",
              "9      object of preposition             \n",
              "10               punctuation             \n",
              "\n",
              "                                     entity_expl      lemma  \\\n",
              "0                    People, including fictional  Elisabeth   \n",
              "1                                           None       grab   \n",
              "2   Numerals that do not fall under another type          2   \n",
              "3                                           None      apple   \n",
              "4                                           None        and   \n",
              "5                                           None       take   \n",
              "6                                           None          a   \n",
              "7                                           None       bite   \n",
              "8                                           None         of   \n",
              "9                                           None       each   \n",
              "10                                          None          .   \n",
              "\n",
              "                           morph  \n",
              "0                  (Number=Sing)  \n",
              "1     (Tense=Past, VerbForm=Fin)  \n",
              "2                 (NumType=Card)  \n",
              "3                  (Number=Plur)  \n",
              "4                 (ConjType=Cmp)  \n",
              "5     (Tense=Past, VerbForm=Fin)  \n",
              "6   (Definite=Ind, PronType=Art)  \n",
              "7                  (Number=Sing)  \n",
              "8                             ()  \n",
              "9                             ()  \n",
              "10              (PunctType=Peri)  "
            ]
          },
          "execution_count": 51,
          "metadata": {},
          "output_type": "execute_result"
        }
      ],
      "source": [
        "df = pd.DataFrame(data, columns=[\"word\",\"isalpha\",\"ispunct\",\"isstop\",\"norm\",\"pos\",\"pos_expl\",\"fine_pos\",\"fine_pos_expl\",\"dep\",\"dep_expl\",\"entity\",\"entity_expl\",\"lemma\",\"morph\"])\n",
        "df"
      ]
    },
    {
      "cell_type": "markdown",
      "metadata": {
        "id": "o0WoCb9R09-w"
      },
      "source": [
        "## Plot DEP graph"
      ]
    },
    {
      "cell_type": "code",
      "execution_count": 52,
      "metadata": {
        "colab": {
          "base_uri": "https://localhost:8080/",
          "height": 418
        },
        "id": "FUuMnJHwzlkk",
        "outputId": "1ed2c8fc-4fae-477b-870d-0a0899c16347"
      },
      "outputs": [
        {
          "data": {
            "text/html": [
              "<span class=\"tex2jax_ignore\"><svg xmlns=\"http://www.w3.org/2000/svg\" xmlns:xlink=\"http://www.w3.org/1999/xlink\" xml:lang=\"en\" id=\"8d5f42cadf334b48a003ac7e36e4554c-0\" class=\"displacy\" width=\"1250\" height=\"377.0\" direction=\"ltr\" style=\"max-width: none; height: 377.0px; color: white; background: transparent; font-family: Arial; direction: ltr\">\n",
              "<text class=\"displacy-token\" fill=\"currentColor\" text-anchor=\"middle\" y=\"287.0\">\n",
              "    <tspan class=\"displacy-word\" fill=\"currentColor\" x=\"50\">Elisabeth</tspan>\n",
              "    <tspan class=\"displacy-tag\" dy=\"2em\" fill=\"currentColor\" x=\"50\">PROPN</tspan>\n",
              "</text>\n",
              "\n",
              "<text class=\"displacy-token\" fill=\"currentColor\" text-anchor=\"middle\" y=\"287.0\">\n",
              "    <tspan class=\"displacy-word\" fill=\"currentColor\" x=\"170\">grabbed</tspan>\n",
              "    <tspan class=\"displacy-tag\" dy=\"2em\" fill=\"currentColor\" x=\"170\">VERB</tspan>\n",
              "</text>\n",
              "\n",
              "<text class=\"displacy-token\" fill=\"currentColor\" text-anchor=\"middle\" y=\"287.0\">\n",
              "    <tspan class=\"displacy-word\" fill=\"currentColor\" x=\"290\">2</tspan>\n",
              "    <tspan class=\"displacy-tag\" dy=\"2em\" fill=\"currentColor\" x=\"290\">NUM</tspan>\n",
              "</text>\n",
              "\n",
              "<text class=\"displacy-token\" fill=\"currentColor\" text-anchor=\"middle\" y=\"287.0\">\n",
              "    <tspan class=\"displacy-word\" fill=\"currentColor\" x=\"410\">apples</tspan>\n",
              "    <tspan class=\"displacy-tag\" dy=\"2em\" fill=\"currentColor\" x=\"410\">NOUN</tspan>\n",
              "</text>\n",
              "\n",
              "<text class=\"displacy-token\" fill=\"currentColor\" text-anchor=\"middle\" y=\"287.0\">\n",
              "    <tspan class=\"displacy-word\" fill=\"currentColor\" x=\"530\">and</tspan>\n",
              "    <tspan class=\"displacy-tag\" dy=\"2em\" fill=\"currentColor\" x=\"530\">CCONJ</tspan>\n",
              "</text>\n",
              "\n",
              "<text class=\"displacy-token\" fill=\"currentColor\" text-anchor=\"middle\" y=\"287.0\">\n",
              "    <tspan class=\"displacy-word\" fill=\"currentColor\" x=\"650\">took</tspan>\n",
              "    <tspan class=\"displacy-tag\" dy=\"2em\" fill=\"currentColor\" x=\"650\">VERB</tspan>\n",
              "</text>\n",
              "\n",
              "<text class=\"displacy-token\" fill=\"currentColor\" text-anchor=\"middle\" y=\"287.0\">\n",
              "    <tspan class=\"displacy-word\" fill=\"currentColor\" x=\"770\">a</tspan>\n",
              "    <tspan class=\"displacy-tag\" dy=\"2em\" fill=\"currentColor\" x=\"770\">DET</tspan>\n",
              "</text>\n",
              "\n",
              "<text class=\"displacy-token\" fill=\"currentColor\" text-anchor=\"middle\" y=\"287.0\">\n",
              "    <tspan class=\"displacy-word\" fill=\"currentColor\" x=\"890\">bite</tspan>\n",
              "    <tspan class=\"displacy-tag\" dy=\"2em\" fill=\"currentColor\" x=\"890\">NOUN</tspan>\n",
              "</text>\n",
              "\n",
              "<text class=\"displacy-token\" fill=\"currentColor\" text-anchor=\"middle\" y=\"287.0\">\n",
              "    <tspan class=\"displacy-word\" fill=\"currentColor\" x=\"1010\">of</tspan>\n",
              "    <tspan class=\"displacy-tag\" dy=\"2em\" fill=\"currentColor\" x=\"1010\">ADP</tspan>\n",
              "</text>\n",
              "\n",
              "<text class=\"displacy-token\" fill=\"currentColor\" text-anchor=\"middle\" y=\"287.0\">\n",
              "    <tspan class=\"displacy-word\" fill=\"currentColor\" x=\"1130\">each.</tspan>\n",
              "    <tspan class=\"displacy-tag\" dy=\"2em\" fill=\"currentColor\" x=\"1130\">PRON</tspan>\n",
              "</text>\n",
              "\n",
              "<g class=\"displacy-arrow\">\n",
              "    <path class=\"displacy-arc\" id=\"arrow-8d5f42cadf334b48a003ac7e36e4554c-0-0\" stroke-width=\"2px\" d=\"M70,242.0 C70,182.0 155.0,182.0 155.0,242.0\" fill=\"none\" stroke=\"currentColor\"/>\n",
              "    <text dy=\"1.25em\" style=\"font-size: 0.8em; letter-spacing: 1px\">\n",
              "        <textPath xlink:href=\"#arrow-8d5f42cadf334b48a003ac7e36e4554c-0-0\" class=\"displacy-label\" startOffset=\"50%\" side=\"left\" fill=\"currentColor\" text-anchor=\"middle\">nsubj</textPath>\n",
              "    </text>\n",
              "    <path class=\"displacy-arrowhead\" d=\"M70,244.0 L62,232.0 78,232.0\" fill=\"currentColor\"/>\n",
              "</g>\n",
              "\n",
              "<g class=\"displacy-arrow\">\n",
              "    <path class=\"displacy-arc\" id=\"arrow-8d5f42cadf334b48a003ac7e36e4554c-0-1\" stroke-width=\"2px\" d=\"M310,242.0 C310,182.0 395.0,182.0 395.0,242.0\" fill=\"none\" stroke=\"currentColor\"/>\n",
              "    <text dy=\"1.25em\" style=\"font-size: 0.8em; letter-spacing: 1px\">\n",
              "        <textPath xlink:href=\"#arrow-8d5f42cadf334b48a003ac7e36e4554c-0-1\" class=\"displacy-label\" startOffset=\"50%\" side=\"left\" fill=\"currentColor\" text-anchor=\"middle\">nummod</textPath>\n",
              "    </text>\n",
              "    <path class=\"displacy-arrowhead\" d=\"M310,244.0 L302,232.0 318,232.0\" fill=\"currentColor\"/>\n",
              "</g>\n",
              "\n",
              "<g class=\"displacy-arrow\">\n",
              "    <path class=\"displacy-arc\" id=\"arrow-8d5f42cadf334b48a003ac7e36e4554c-0-2\" stroke-width=\"2px\" d=\"M190,242.0 C190,122.0 400.0,122.0 400.0,242.0\" fill=\"none\" stroke=\"currentColor\"/>\n",
              "    <text dy=\"1.25em\" style=\"font-size: 0.8em; letter-spacing: 1px\">\n",
              "        <textPath xlink:href=\"#arrow-8d5f42cadf334b48a003ac7e36e4554c-0-2\" class=\"displacy-label\" startOffset=\"50%\" side=\"left\" fill=\"currentColor\" text-anchor=\"middle\">dobj</textPath>\n",
              "    </text>\n",
              "    <path class=\"displacy-arrowhead\" d=\"M400.0,244.0 L408.0,232.0 392.0,232.0\" fill=\"currentColor\"/>\n",
              "</g>\n",
              "\n",
              "<g class=\"displacy-arrow\">\n",
              "    <path class=\"displacy-arc\" id=\"arrow-8d5f42cadf334b48a003ac7e36e4554c-0-3\" stroke-width=\"2px\" d=\"M190,242.0 C190,62.0 525.0,62.0 525.0,242.0\" fill=\"none\" stroke=\"currentColor\"/>\n",
              "    <text dy=\"1.25em\" style=\"font-size: 0.8em; letter-spacing: 1px\">\n",
              "        <textPath xlink:href=\"#arrow-8d5f42cadf334b48a003ac7e36e4554c-0-3\" class=\"displacy-label\" startOffset=\"50%\" side=\"left\" fill=\"currentColor\" text-anchor=\"middle\">cc</textPath>\n",
              "    </text>\n",
              "    <path class=\"displacy-arrowhead\" d=\"M525.0,244.0 L533.0,232.0 517.0,232.0\" fill=\"currentColor\"/>\n",
              "</g>\n",
              "\n",
              "<g class=\"displacy-arrow\">\n",
              "    <path class=\"displacy-arc\" id=\"arrow-8d5f42cadf334b48a003ac7e36e4554c-0-4\" stroke-width=\"2px\" d=\"M190,242.0 C190,2.0 650.0,2.0 650.0,242.0\" fill=\"none\" stroke=\"currentColor\"/>\n",
              "    <text dy=\"1.25em\" style=\"font-size: 0.8em; letter-spacing: 1px\">\n",
              "        <textPath xlink:href=\"#arrow-8d5f42cadf334b48a003ac7e36e4554c-0-4\" class=\"displacy-label\" startOffset=\"50%\" side=\"left\" fill=\"currentColor\" text-anchor=\"middle\">conj</textPath>\n",
              "    </text>\n",
              "    <path class=\"displacy-arrowhead\" d=\"M650.0,244.0 L658.0,232.0 642.0,232.0\" fill=\"currentColor\"/>\n",
              "</g>\n",
              "\n",
              "<g class=\"displacy-arrow\">\n",
              "    <path class=\"displacy-arc\" id=\"arrow-8d5f42cadf334b48a003ac7e36e4554c-0-5\" stroke-width=\"2px\" d=\"M790,242.0 C790,182.0 875.0,182.0 875.0,242.0\" fill=\"none\" stroke=\"currentColor\"/>\n",
              "    <text dy=\"1.25em\" style=\"font-size: 0.8em; letter-spacing: 1px\">\n",
              "        <textPath xlink:href=\"#arrow-8d5f42cadf334b48a003ac7e36e4554c-0-5\" class=\"displacy-label\" startOffset=\"50%\" side=\"left\" fill=\"currentColor\" text-anchor=\"middle\">det</textPath>\n",
              "    </text>\n",
              "    <path class=\"displacy-arrowhead\" d=\"M790,244.0 L782,232.0 798,232.0\" fill=\"currentColor\"/>\n",
              "</g>\n",
              "\n",
              "<g class=\"displacy-arrow\">\n",
              "    <path class=\"displacy-arc\" id=\"arrow-8d5f42cadf334b48a003ac7e36e4554c-0-6\" stroke-width=\"2px\" d=\"M670,242.0 C670,122.0 880.0,122.0 880.0,242.0\" fill=\"none\" stroke=\"currentColor\"/>\n",
              "    <text dy=\"1.25em\" style=\"font-size: 0.8em; letter-spacing: 1px\">\n",
              "        <textPath xlink:href=\"#arrow-8d5f42cadf334b48a003ac7e36e4554c-0-6\" class=\"displacy-label\" startOffset=\"50%\" side=\"left\" fill=\"currentColor\" text-anchor=\"middle\">dobj</textPath>\n",
              "    </text>\n",
              "    <path class=\"displacy-arrowhead\" d=\"M880.0,244.0 L888.0,232.0 872.0,232.0\" fill=\"currentColor\"/>\n",
              "</g>\n",
              "\n",
              "<g class=\"displacy-arrow\">\n",
              "    <path class=\"displacy-arc\" id=\"arrow-8d5f42cadf334b48a003ac7e36e4554c-0-7\" stroke-width=\"2px\" d=\"M910,242.0 C910,182.0 995.0,182.0 995.0,242.0\" fill=\"none\" stroke=\"currentColor\"/>\n",
              "    <text dy=\"1.25em\" style=\"font-size: 0.8em; letter-spacing: 1px\">\n",
              "        <textPath xlink:href=\"#arrow-8d5f42cadf334b48a003ac7e36e4554c-0-7\" class=\"displacy-label\" startOffset=\"50%\" side=\"left\" fill=\"currentColor\" text-anchor=\"middle\">prep</textPath>\n",
              "    </text>\n",
              "    <path class=\"displacy-arrowhead\" d=\"M995.0,244.0 L1003.0,232.0 987.0,232.0\" fill=\"currentColor\"/>\n",
              "</g>\n",
              "\n",
              "<g class=\"displacy-arrow\">\n",
              "    <path class=\"displacy-arc\" id=\"arrow-8d5f42cadf334b48a003ac7e36e4554c-0-8\" stroke-width=\"2px\" d=\"M1030,242.0 C1030,182.0 1115.0,182.0 1115.0,242.0\" fill=\"none\" stroke=\"currentColor\"/>\n",
              "    <text dy=\"1.25em\" style=\"font-size: 0.8em; letter-spacing: 1px\">\n",
              "        <textPath xlink:href=\"#arrow-8d5f42cadf334b48a003ac7e36e4554c-0-8\" class=\"displacy-label\" startOffset=\"50%\" side=\"left\" fill=\"currentColor\" text-anchor=\"middle\">pobj</textPath>\n",
              "    </text>\n",
              "    <path class=\"displacy-arrowhead\" d=\"M1115.0,244.0 L1123.0,232.0 1107.0,232.0\" fill=\"currentColor\"/>\n",
              "</g>\n",
              "</svg></span>"
            ],
            "text/plain": [
              "<IPython.core.display.HTML object>"
            ]
          },
          "metadata": {},
          "output_type": "display_data"
        }
      ],
      "source": [
        "from spacy import displacy\n",
        "\n",
        "displacy.render(doc, style=\"dep\", jupyter=True, options={\"distance\":120, \"bg\":\"transparent\", \"color\":\"white\"})"
      ]
    },
    {
      "cell_type": "code",
      "execution_count": 53,
      "metadata": {
        "colab": {
          "base_uri": "https://localhost:8080/"
        },
        "id": "FQDooMNx1Cj-",
        "outputId": "52b23fee-9a38-4b75-91a2-95fb0c8c9f5f"
      },
      "outputs": [
        {
          "name": "stdout",
          "output_type": "stream",
          "text": [
            "Elisabeth  rightmost ancestor chain: [grabbed]\n",
            "grabbed    rightmost ancestor chain: []\n",
            "2          rightmost ancestor chain: [apples, grabbed]\n",
            "apples     rightmost ancestor chain: [grabbed]\n",
            "and        rightmost ancestor chain: [grabbed]\n",
            "took       rightmost ancestor chain: [grabbed]\n",
            "a          rightmost ancestor chain: [bite, took, grabbed]\n",
            "bite       rightmost ancestor chain: [took, grabbed]\n",
            "of         rightmost ancestor chain: [bite, took, grabbed]\n",
            "each       rightmost ancestor chain: [of, bite, took, grabbed]\n",
            ".          rightmost ancestor chain: [grabbed]\n"
          ]
        }
      ],
      "source": [
        "for token in doc:\n",
        "  print(token.text.ljust(10), \"rightmost ancestor chain:\", list(token.ancestors))"
      ]
    },
    {
      "cell_type": "markdown",
      "metadata": {
        "id": "lAQZbHN95Rkz"
      },
      "source": [
        "# Plot entities"
      ]
    },
    {
      "cell_type": "code",
      "execution_count": 54,
      "metadata": {
        "colab": {
          "base_uri": "https://localhost:8080/",
          "height": 52
        },
        "id": "Po9KX8jq2XEf",
        "outputId": "223885a7-e426-4a8c-a5a9-ea91082381c7"
      },
      "outputs": [
        {
          "data": {
            "text/html": [
              "<span class=\"tex2jax_ignore\"><div class=\"entities\" style=\"line-height: 2.5; direction: ltr\">\n",
              "<mark class=\"entity\" style=\"background: #aa9cfc; padding: 0.45em 0.6em; margin: 0 0.25em; line-height: 1; border-radius: 0.35em;\">\n",
              "    Elisabeth\n",
              "    <span style=\"font-size: 0.8em; font-weight: bold; line-height: 1; border-radius: 0.35em; vertical-align: middle; margin-left: 0.5rem\">PERSON</span>\n",
              "</mark>\n",
              " grabbed \n",
              "<mark class=\"entity\" style=\"background: #e4e7d2; padding: 0.45em 0.6em; margin: 0 0.25em; line-height: 1; border-radius: 0.35em;\">\n",
              "    2\n",
              "    <span style=\"font-size: 0.8em; font-weight: bold; line-height: 1; border-radius: 0.35em; vertical-align: middle; margin-left: 0.5rem\">CARDINAL</span>\n",
              "</mark>\n",
              " apples and took a bite of each.</div></span>"
            ],
            "text/plain": [
              "<IPython.core.display.HTML object>"
            ]
          },
          "metadata": {},
          "output_type": "display_data"
        }
      ],
      "source": [
        "displacy.render(doc, style=\"ent\", jupyter=True, options={\"distance\":120, \"bg\":\"transparent\", \"color\":\"white\"})"
      ]
    },
    {
      "cell_type": "markdown",
      "metadata": {
        "id": "66uwE3U_QYt0"
      },
      "source": [
        "# Multiple sentences"
      ]
    },
    {
      "cell_type": "code",
      "execution_count": 55,
      "metadata": {
        "colab": {
          "base_uri": "https://localhost:8080/",
          "height": 559
        },
        "id": "6_gaT7Df4cfL",
        "outputId": "e3723302-52ee-4956-eb40-7eb4a8b1ec91"
      },
      "outputs": [
        {
          "data": {
            "text/html": [
              "<span class=\"tex2jax_ignore\"><svg xmlns=\"http://www.w3.org/2000/svg\" xmlns:xlink=\"http://www.w3.org/1999/xlink\" xml:lang=\"en\" id=\"e89e9c496e8f41feb0c8bca2246c6283-0\" class=\"displacy\" width=\"650\" height=\"257.0\" direction=\"ltr\" style=\"max-width: none; height: 257.0px; color: white; background: transparent; font-family: Arial; direction: ltr\">\n",
              "<text class=\"displacy-token\" fill=\"currentColor\" text-anchor=\"middle\" y=\"167.0\">\n",
              "    <tspan class=\"displacy-word\" fill=\"currentColor\" x=\"50\">Bob</tspan>\n",
              "    <tspan class=\"displacy-tag\" dy=\"2em\" fill=\"currentColor\" x=\"50\">PROPN</tspan>\n",
              "</text>\n",
              "\n",
              "<text class=\"displacy-token\" fill=\"currentColor\" text-anchor=\"middle\" y=\"167.0\">\n",
              "    <tspan class=\"displacy-word\" fill=\"currentColor\" x=\"170\">went</tspan>\n",
              "    <tspan class=\"displacy-tag\" dy=\"2em\" fill=\"currentColor\" x=\"170\">VERB</tspan>\n",
              "</text>\n",
              "\n",
              "<text class=\"displacy-token\" fill=\"currentColor\" text-anchor=\"middle\" y=\"167.0\">\n",
              "    <tspan class=\"displacy-word\" fill=\"currentColor\" x=\"290\">to</tspan>\n",
              "    <tspan class=\"displacy-tag\" dy=\"2em\" fill=\"currentColor\" x=\"290\">ADP</tspan>\n",
              "</text>\n",
              "\n",
              "<text class=\"displacy-token\" fill=\"currentColor\" text-anchor=\"middle\" y=\"167.0\">\n",
              "    <tspan class=\"displacy-word\" fill=\"currentColor\" x=\"410\">the</tspan>\n",
              "    <tspan class=\"displacy-tag\" dy=\"2em\" fill=\"currentColor\" x=\"410\">DET</tspan>\n",
              "</text>\n",
              "\n",
              "<text class=\"displacy-token\" fill=\"currentColor\" text-anchor=\"middle\" y=\"167.0\">\n",
              "    <tspan class=\"displacy-word\" fill=\"currentColor\" x=\"530\">cinema.</tspan>\n",
              "    <tspan class=\"displacy-tag\" dy=\"2em\" fill=\"currentColor\" x=\"530\">NOUN</tspan>\n",
              "</text>\n",
              "\n",
              "<g class=\"displacy-arrow\">\n",
              "    <path class=\"displacy-arc\" id=\"arrow-e89e9c496e8f41feb0c8bca2246c6283-0-0\" stroke-width=\"2px\" d=\"M70,122.0 C70,62.0 165.0,62.0 165.0,122.0\" fill=\"none\" stroke=\"currentColor\"/>\n",
              "    <text dy=\"1.25em\" style=\"font-size: 0.8em; letter-spacing: 1px\">\n",
              "        <textPath xlink:href=\"#arrow-e89e9c496e8f41feb0c8bca2246c6283-0-0\" class=\"displacy-label\" startOffset=\"50%\" side=\"left\" fill=\"currentColor\" text-anchor=\"middle\">nsubj</textPath>\n",
              "    </text>\n",
              "    <path class=\"displacy-arrowhead\" d=\"M70,124.0 L62,112.0 78,112.0\" fill=\"currentColor\"/>\n",
              "</g>\n",
              "\n",
              "<g class=\"displacy-arrow\">\n",
              "    <path class=\"displacy-arc\" id=\"arrow-e89e9c496e8f41feb0c8bca2246c6283-0-1\" stroke-width=\"2px\" d=\"M190,122.0 C190,62.0 285.0,62.0 285.0,122.0\" fill=\"none\" stroke=\"currentColor\"/>\n",
              "    <text dy=\"1.25em\" style=\"font-size: 0.8em; letter-spacing: 1px\">\n",
              "        <textPath xlink:href=\"#arrow-e89e9c496e8f41feb0c8bca2246c6283-0-1\" class=\"displacy-label\" startOffset=\"50%\" side=\"left\" fill=\"currentColor\" text-anchor=\"middle\">prep</textPath>\n",
              "    </text>\n",
              "    <path class=\"displacy-arrowhead\" d=\"M285.0,124.0 L293.0,112.0 277.0,112.0\" fill=\"currentColor\"/>\n",
              "</g>\n",
              "\n",
              "<g class=\"displacy-arrow\">\n",
              "    <path class=\"displacy-arc\" id=\"arrow-e89e9c496e8f41feb0c8bca2246c6283-0-2\" stroke-width=\"2px\" d=\"M430,122.0 C430,62.0 525.0,62.0 525.0,122.0\" fill=\"none\" stroke=\"currentColor\"/>\n",
              "    <text dy=\"1.25em\" style=\"font-size: 0.8em; letter-spacing: 1px\">\n",
              "        <textPath xlink:href=\"#arrow-e89e9c496e8f41feb0c8bca2246c6283-0-2\" class=\"displacy-label\" startOffset=\"50%\" side=\"left\" fill=\"currentColor\" text-anchor=\"middle\">det</textPath>\n",
              "    </text>\n",
              "    <path class=\"displacy-arrowhead\" d=\"M430,124.0 L422,112.0 438,112.0\" fill=\"currentColor\"/>\n",
              "</g>\n",
              "\n",
              "<g class=\"displacy-arrow\">\n",
              "    <path class=\"displacy-arc\" id=\"arrow-e89e9c496e8f41feb0c8bca2246c6283-0-3\" stroke-width=\"2px\" d=\"M310,122.0 C310,2.0 530.0,2.0 530.0,122.0\" fill=\"none\" stroke=\"currentColor\"/>\n",
              "    <text dy=\"1.25em\" style=\"font-size: 0.8em; letter-spacing: 1px\">\n",
              "        <textPath xlink:href=\"#arrow-e89e9c496e8f41feb0c8bca2246c6283-0-3\" class=\"displacy-label\" startOffset=\"50%\" side=\"left\" fill=\"currentColor\" text-anchor=\"middle\">pobj</textPath>\n",
              "    </text>\n",
              "    <path class=\"displacy-arrowhead\" d=\"M530.0,124.0 L538.0,112.0 522.0,112.0\" fill=\"currentColor\"/>\n",
              "</g>\n",
              "</svg></span>"
            ],
            "text/plain": [
              "<IPython.core.display.HTML object>"
            ]
          },
          "metadata": {},
          "output_type": "display_data"
        },
        {
          "data": {
            "text/html": [
              "<span class=\"tex2jax_ignore\"><svg xmlns=\"http://www.w3.org/2000/svg\" xmlns:xlink=\"http://www.w3.org/1999/xlink\" xml:lang=\"en\" id=\"defb4b872bce437ea4597fc0400c1332-0\" class=\"displacy\" width=\"770\" height=\"257.0\" direction=\"ltr\" style=\"max-width: none; height: 257.0px; color: white; background: transparent; font-family: Arial; direction: ltr\">\n",
              "<text class=\"displacy-token\" fill=\"currentColor\" text-anchor=\"middle\" y=\"167.0\">\n",
              "    <tspan class=\"displacy-word\" fill=\"currentColor\" x=\"50\">He</tspan>\n",
              "    <tspan class=\"displacy-tag\" dy=\"2em\" fill=\"currentColor\" x=\"50\">PRON</tspan>\n",
              "</text>\n",
              "\n",
              "<text class=\"displacy-token\" fill=\"currentColor\" text-anchor=\"middle\" y=\"167.0\">\n",
              "    <tspan class=\"displacy-word\" fill=\"currentColor\" x=\"170\">watched</tspan>\n",
              "    <tspan class=\"displacy-tag\" dy=\"2em\" fill=\"currentColor\" x=\"170\">VERB</tspan>\n",
              "</text>\n",
              "\n",
              "<text class=\"displacy-token\" fill=\"currentColor\" text-anchor=\"middle\" y=\"167.0\">\n",
              "    <tspan class=\"displacy-word\" fill=\"currentColor\" x=\"290\">Titanic</tspan>\n",
              "    <tspan class=\"displacy-tag\" dy=\"2em\" fill=\"currentColor\" x=\"290\">ADJ</tspan>\n",
              "</text>\n",
              "\n",
              "<text class=\"displacy-token\" fill=\"currentColor\" text-anchor=\"middle\" y=\"167.0\">\n",
              "    <tspan class=\"displacy-word\" fill=\"currentColor\" x=\"410\">with</tspan>\n",
              "    <tspan class=\"displacy-tag\" dy=\"2em\" fill=\"currentColor\" x=\"410\">ADP</tspan>\n",
              "</text>\n",
              "\n",
              "<text class=\"displacy-token\" fill=\"currentColor\" text-anchor=\"middle\" y=\"167.0\">\n",
              "    <tspan class=\"displacy-word\" fill=\"currentColor\" x=\"530\">his</tspan>\n",
              "    <tspan class=\"displacy-tag\" dy=\"2em\" fill=\"currentColor\" x=\"530\">PRON</tspan>\n",
              "</text>\n",
              "\n",
              "<text class=\"displacy-token\" fill=\"currentColor\" text-anchor=\"middle\" y=\"167.0\">\n",
              "    <tspan class=\"displacy-word\" fill=\"currentColor\" x=\"650\">friends.</tspan>\n",
              "    <tspan class=\"displacy-tag\" dy=\"2em\" fill=\"currentColor\" x=\"650\">NOUN</tspan>\n",
              "</text>\n",
              "\n",
              "<g class=\"displacy-arrow\">\n",
              "    <path class=\"displacy-arc\" id=\"arrow-defb4b872bce437ea4597fc0400c1332-0-0\" stroke-width=\"2px\" d=\"M70,122.0 C70,62.0 165.0,62.0 165.0,122.0\" fill=\"none\" stroke=\"currentColor\"/>\n",
              "    <text dy=\"1.25em\" style=\"font-size: 0.8em; letter-spacing: 1px\">\n",
              "        <textPath xlink:href=\"#arrow-defb4b872bce437ea4597fc0400c1332-0-0\" class=\"displacy-label\" startOffset=\"50%\" side=\"left\" fill=\"currentColor\" text-anchor=\"middle\">nsubj</textPath>\n",
              "    </text>\n",
              "    <path class=\"displacy-arrowhead\" d=\"M70,124.0 L62,112.0 78,112.0\" fill=\"currentColor\"/>\n",
              "</g>\n",
              "\n",
              "<g class=\"displacy-arrow\">\n",
              "    <path class=\"displacy-arc\" id=\"arrow-defb4b872bce437ea4597fc0400c1332-0-1\" stroke-width=\"2px\" d=\"M190,122.0 C190,62.0 285.0,62.0 285.0,122.0\" fill=\"none\" stroke=\"currentColor\"/>\n",
              "    <text dy=\"1.25em\" style=\"font-size: 0.8em; letter-spacing: 1px\">\n",
              "        <textPath xlink:href=\"#arrow-defb4b872bce437ea4597fc0400c1332-0-1\" class=\"displacy-label\" startOffset=\"50%\" side=\"left\" fill=\"currentColor\" text-anchor=\"middle\">dobj</textPath>\n",
              "    </text>\n",
              "    <path class=\"displacy-arrowhead\" d=\"M285.0,124.0 L293.0,112.0 277.0,112.0\" fill=\"currentColor\"/>\n",
              "</g>\n",
              "\n",
              "<g class=\"displacy-arrow\">\n",
              "    <path class=\"displacy-arc\" id=\"arrow-defb4b872bce437ea4597fc0400c1332-0-2\" stroke-width=\"2px\" d=\"M190,122.0 C190,2.0 410.0,2.0 410.0,122.0\" fill=\"none\" stroke=\"currentColor\"/>\n",
              "    <text dy=\"1.25em\" style=\"font-size: 0.8em; letter-spacing: 1px\">\n",
              "        <textPath xlink:href=\"#arrow-defb4b872bce437ea4597fc0400c1332-0-2\" class=\"displacy-label\" startOffset=\"50%\" side=\"left\" fill=\"currentColor\" text-anchor=\"middle\">prep</textPath>\n",
              "    </text>\n",
              "    <path class=\"displacy-arrowhead\" d=\"M410.0,124.0 L418.0,112.0 402.0,112.0\" fill=\"currentColor\"/>\n",
              "</g>\n",
              "\n",
              "<g class=\"displacy-arrow\">\n",
              "    <path class=\"displacy-arc\" id=\"arrow-defb4b872bce437ea4597fc0400c1332-0-3\" stroke-width=\"2px\" d=\"M550,122.0 C550,62.0 645.0,62.0 645.0,122.0\" fill=\"none\" stroke=\"currentColor\"/>\n",
              "    <text dy=\"1.25em\" style=\"font-size: 0.8em; letter-spacing: 1px\">\n",
              "        <textPath xlink:href=\"#arrow-defb4b872bce437ea4597fc0400c1332-0-3\" class=\"displacy-label\" startOffset=\"50%\" side=\"left\" fill=\"currentColor\" text-anchor=\"middle\">poss</textPath>\n",
              "    </text>\n",
              "    <path class=\"displacy-arrowhead\" d=\"M550,124.0 L542,112.0 558,112.0\" fill=\"currentColor\"/>\n",
              "</g>\n",
              "\n",
              "<g class=\"displacy-arrow\">\n",
              "    <path class=\"displacy-arc\" id=\"arrow-defb4b872bce437ea4597fc0400c1332-0-4\" stroke-width=\"2px\" d=\"M430,122.0 C430,2.0 650.0,2.0 650.0,122.0\" fill=\"none\" stroke=\"currentColor\"/>\n",
              "    <text dy=\"1.25em\" style=\"font-size: 0.8em; letter-spacing: 1px\">\n",
              "        <textPath xlink:href=\"#arrow-defb4b872bce437ea4597fc0400c1332-0-4\" class=\"displacy-label\" startOffset=\"50%\" side=\"left\" fill=\"currentColor\" text-anchor=\"middle\">pobj</textPath>\n",
              "    </text>\n",
              "    <path class=\"displacy-arrowhead\" d=\"M650.0,124.0 L658.0,112.0 642.0,112.0\" fill=\"currentColor\"/>\n",
              "</g>\n",
              "</svg></span>"
            ],
            "text/plain": [
              "<IPython.core.display.HTML object>"
            ]
          },
          "metadata": {},
          "output_type": "display_data"
        }
      ],
      "source": [
        "text = \"Bob went to the cinema. He watched Titanic with his friends.\"\n",
        "\n",
        "doc = nlp(text)\n",
        "for sent in doc.sents:\n",
        "  displacy.render(sent, style=\"dep\", jupyter=True, options={\"distance\":120, \"bg\":\"transparent\", \"color\":\"white\"})"
      ]
    },
    {
      "cell_type": "markdown",
      "metadata": {
        "id": "DxQFO_uORlJL"
      },
      "source": [
        "# Batched pipeline\n",
        "\n",
        "Working with statistical models, processing text in batches is more efficient."
      ]
    },
    {
      "cell_type": "code",
      "execution_count": 56,
      "metadata": {
        "colab": {
          "base_uri": "https://localhost:8080/"
        },
        "id": "cMD1DiRER3m_",
        "outputId": "f19e7940-8474-47d5-f0b2-ac114ea4654b"
      },
      "outputs": [
        {
          "name": "stdout",
          "output_type": "stream",
          "text": [
            "Requirement already satisfied: gdown in /opt/conda/lib/python3.10/site-packages (5.2.0)\n",
            "Requirement already satisfied: beautifulsoup4 in /opt/conda/lib/python3.10/site-packages (from gdown) (4.12.2)\n",
            "Requirement already satisfied: filelock in /opt/conda/lib/python3.10/site-packages (from gdown) (3.13.1)\n",
            "Requirement already satisfied: requests[socks] in /opt/conda/lib/python3.10/site-packages (from gdown) (2.31.0)\n",
            "Requirement already satisfied: tqdm in /opt/conda/lib/python3.10/site-packages (from gdown) (4.65.0)\n",
            "Requirement already satisfied: soupsieve>1.2 in /opt/conda/lib/python3.10/site-packages (from beautifulsoup4->gdown) (2.5)\n",
            "Requirement already satisfied: charset-normalizer<4,>=2 in /opt/conda/lib/python3.10/site-packages (from requests[socks]->gdown) (2.0.4)\n",
            "Requirement already satisfied: idna<4,>=2.5 in /opt/conda/lib/python3.10/site-packages (from requests[socks]->gdown) (3.4)\n",
            "Requirement already satisfied: urllib3<3,>=1.21.1 in /opt/conda/lib/python3.10/site-packages (from requests[socks]->gdown) (2.1.0)\n",
            "Requirement already satisfied: certifi>=2017.4.17 in /opt/conda/lib/python3.10/site-packages (from requests[socks]->gdown) (2025.8.3)\n",
            "Requirement already satisfied: PySocks!=1.5.7,>=1.5.6 in /opt/conda/lib/python3.10/site-packages (from requests[socks]->gdown) (1.7.1)\n",
            "\u001b[33mWARNING: Running pip as the 'root' user can result in broken permissions and conflicting behaviour with the system package manager, possibly rendering your system unusable. It is recommended to use a virtual environment instead: https://pip.pypa.io/warnings/venv. Use the --root-user-action option if you know what you are doing and want to suppress this warning.\u001b[0m\u001b[33m\n",
            "\u001b[0m"
          ]
        },
        {
          "name": "stderr",
          "output_type": "stream",
          "text": [
            "Downloading...\n",
            "From: https://drive.google.com/uc?id=11ggHFzTXvvRETep7hwYlwyByFEHOLpa6\n",
            "To: /work/elte-nlp-course/practice_examples/source.txt\n",
            "100%|██████████| 54.8k/54.8k [00:00<00:00, 1.63MB/s]\n"
          ]
        },
        {
          "data": {
            "text/plain": [
              "'source.txt'"
            ]
          },
          "execution_count": 56,
          "metadata": {},
          "output_type": "execute_result"
        }
      ],
      "source": [
        "!pip install gdown\n",
        "\n",
        "import gdown\n",
        "\n",
        "gdown.download(\"https://drive.google.com/uc?id=11ggHFzTXvvRETep7hwYlwyByFEHOLpa6\", \"source.txt\", quiet=False)\n"
      ]
    },
    {
      "cell_type": "code",
      "execution_count": 57,
      "metadata": {
        "id": "m47LyLwKTRkU"
      },
      "outputs": [],
      "source": [
        "with open(\"./source.txt\",\"r\", encoding=\"utf-8\") as f:\n",
        "  lines = f.readlines()"
      ]
    },
    {
      "cell_type": "code",
      "execution_count": 58,
      "metadata": {
        "colab": {
          "base_uri": "https://localhost:8080/"
        },
        "id": "F68tCZJF5OyE",
        "outputId": "0efa581f-8852-4b3f-8679-048431da61dc"
      },
      "outputs": [
        {
          "name": "stdout",
          "output_type": "stream",
          "text": [
            "['In the original BBS article, Searle identified and discussed several responses to the argument that he had come across in giving the argument in talks at various places. As a result, these early responses have received the most attention in subsequent discussion. What Searle 1980 calls “perhaps the most common reply” is the Systems Reply.\\n', 'The Systems Reply (which Searle says was originally associated with Yale, the home of Schank’s AI work) concedes that the man in the room does not understand Chinese. But, the reply continues, the man is but a part, a central processing unit (CPU), in a larger system. The larger system includes the huge database, the memory (scratchpads) containing intermediate states, and the instructions – the complete system that is required for answering the Chinese questions. So the Sytems Reply is that while the man running the program does not understand Chinese, the system as a whole does.\\n']\n"
          ]
        }
      ],
      "source": [
        "print(lines[:2])"
      ]
    },
    {
      "cell_type": "code",
      "execution_count": 59,
      "metadata": {
        "colab": {
          "base_uri": "https://localhost:8080/"
        },
        "id": "BgWAxf6UQWWL",
        "outputId": "1da136fd-e8d2-4568-a40f-dbc84904de08"
      },
      "outputs": [
        {
          "name": "stdout",
          "output_type": "stream",
          "text": [
            "CPU times: user 1.16 s, sys: 12.6 ms, total: 1.17 s\n",
            "Wall time: 1.17 s\n"
          ]
        }
      ],
      "source": [
        "%%time\n",
        "#Simple solution\n",
        "\n",
        "docs = [nlp(line) for line in lines]"
      ]
    },
    {
      "cell_type": "code",
      "execution_count": 60,
      "metadata": {
        "colab": {
          "base_uri": "https://localhost:8080/"
        },
        "id": "VfZb8pJEQWNv",
        "outputId": "66b39d64-92e1-4660-c491-c5b7dfecb36d"
      },
      "outputs": [
        {
          "name": "stdout",
          "output_type": "stream",
          "text": [
            "CPU times: user 713 ms, sys: 11.6 ms, total: 724 ms\n",
            "Wall time: 724 ms\n"
          ]
        }
      ],
      "source": [
        "%%time\n",
        "#Batched solution\n",
        "\n",
        "docs = list(nlp.pipe(lines))"
      ]
    },
    {
      "cell_type": "code",
      "execution_count": 61,
      "metadata": {
        "colab": {
          "base_uri": "https://localhost:8080/"
        },
        "id": "b5LUV6vxVuus",
        "outputId": "2efd03ab-5640-452c-ec98-f1c2fb220d62"
      },
      "outputs": [
        {
          "name": "stdout",
          "output_type": "stream",
          "text": [
            "CPU times: user 26.9 ms, sys: 53.4 ms, total: 80.2 ms\n",
            "Wall time: 878 ms\n"
          ]
        }
      ],
      "source": [
        "%%time\n",
        "#Batched solution with multiple processes\n",
        "\n",
        "docs =  list(nlp.pipe(lines, n_process=4))"
      ]
    },
    {
      "cell_type": "markdown",
      "metadata": {
        "id": "VmIeYQ0kWoP0"
      },
      "source": [
        "# Custom pipeline component\n",
        "\n",
        "Let's process questions only"
      ]
    },
    {
      "cell_type": "code",
      "execution_count": 62,
      "metadata": {
        "colab": {
          "base_uri": "https://localhost:8080/"
        },
        "id": "G0B_vnXZQWAw",
        "outputId": "adc1c233-18e1-4e18-ba6f-51bdf1489911"
      },
      "outputs": [
        {
          "name": "stdout",
          "output_type": "stream",
          "text": [
            "['tok2vec', 'tagger', 'parser', 'attribute_ruler', 'print_question', 'lemmatizer', 'ner']\n",
            "In his 1989 paper, Harnad writes “Searle formulates the problem as follows: Is the mind a computer program?\n",
            "Stevan Harnad also finds important our sensory and motor capabilities: “Who is to say that the Turing Test, whether conducted in Chinese or in any other language, could be successfully passed without operations that draw on our sensory, motor, and other higher cognitive capacities as well?\n",
            "Ex hypothesi the rest of the world will not notice the difference; will Otto?\n",
            "If so, when?\n",
            "What physical properties of the brain are important?\n",
            "In criticism of Searle’s response to the Brain Simulator Reply, Kurzweil says: “So if we scale up Searle’s Chinese Room to be the rather massive ‘room’ it needs to be, who’s to say that the entire system of a hundred trillion people simulating a Chinese Brain that knows Chinese isn’t conscious?\n",
            "Related to the preceding is The Other Minds Reply: “How do you know that other people understand Chinese or anything else?\n",
            "We attribute limited understanding of language to toddlers, dogs, and other animals, but it is not clear that we are ipso facto attributing unseen states of subjective consciousness – what do we know of the hidden states of exotic creatures?\n",
            "Are there certain conscious states that are “correct” for certain functional states?\n",
            "Further, if being con-specific is key on Searle’s account, a natural question arises as to what circumstances would justify us in attributing understanding (or consciousness) to extra-terrestrial aliens who do not share our biology?\n"
          ]
        }
      ],
      "source": [
        "from spacy.language import Language\n",
        "\n",
        "questions = []\n",
        "@Language.component(\"question_collector\")\n",
        "def my_component(doc):\n",
        "  for sent in doc.sents:\n",
        "    if sent[-1].text == \"?\" and sent[-1].is_sent_end:\n",
        "      questions.append(sent)\n",
        "  return doc\n",
        "\n",
        "nlp = spacy.load(\"en_core_web_sm\")\n",
        "nlp.add_pipe(\"question_collector\", name=\"print_question\", before=\"lemmatizer\")\n",
        "print(nlp.pipe_names)\n",
        "docs = list(nlp.pipe(lines))\n",
        "for question in questions:\n",
        "  print(question)"
      ]
    },
    {
      "cell_type": "markdown",
      "metadata": {
        "id": "dPjKutSLcHDU"
      },
      "source": [
        "# Collect all Person type entities and the number of mentions"
      ]
    },
    {
      "cell_type": "code",
      "execution_count": 63,
      "metadata": {
        "colab": {
          "base_uri": "https://localhost:8080/"
        },
        "id": "Gsi-1K7jZY7s",
        "outputId": "a11b05fd-ca78-4031-a515-c13ebd517c73"
      },
      "outputs": [
        {
          "name": "stdout",
          "output_type": "stream",
          "text": [
            "['tok2vec', 'tagger', 'parser', 'attribute_ruler', 'lemmatizer', 'ner', 'person_counter']\n",
            "{'Ned Block': 2, 'Jack Copeland': 2, 'Daniel Dennett': 4, 'Douglas Hofstadter': 1, 'Jerry Fodor': 3, 'John Haugeland': 2, 'Ray Kurzweil': 1, 'Georges Rey': 3, 'Rey': 5, 'Kurzweil': 1, 'Margaret Boden': 4, 'Boden': 1, 'Clark': 7, 'Otto': 3, 'Shaffer': 2, 'Stevan Harnad': 5, 'Harnad': 5, 'Block': 1, 'Virtual Mind': 8, 'Tim Maudlin': 3, 'Maudlin': 5, 'Minsky': 1, 'Perlis': 2, 'Chalmers': 1, 'Richard Hanley': 1, 'Patrick Hayes': 1, 'Don Perlis': 1, 'Schank': 1, 'Turing Test': 2, 'Mao': 1, 'Mind': 1, 'Roger Penrose': 1, 'Kurt Gödel’s': 1, 'Penrose': 1, 'Gödel': 1, 'Christian Kaernbach': 1, 'Robot': 2, 'Tim Crane': 2, 'Hans Moravec': 2, 'Vat': 1, 'E.g Carter': 1, 'Hilary Putnam': 1, 'David Lewis': 1, 'Helen Keller': 1, 'Jerry Fodor’s': 1, 'Roger Schank': 1, 'Paul': 2, 'Patricia Churchland': 2, 'Suppose Otto': 1, 'Otto’s': 4, 'John Searle': 1, 'Systems Reply': 1, 'Rod Serling’s': 1, 'Steven Pinker': 4, 'Andy Clark': 1, 'William Lycan': 1, 'Similarly Ray Kurzweil': 1, 'Dennett': 7, 'Terry Horgan': 1, 'Wittgenstein': 1, 'Daniel Tammet': 1, 'Intentionality': 1, 'Robotics': 1, 'Transcendent Mind': 1, 'Moravec': 2, 'Wakefield': 1, 'Aliens': 1, 'SAM': 1, 'Simon': 3, 'Hans': 2, 'Eisenstadt': 2, 'Rudolf Carnap': 1, 'Paul Thagard': 1, 'David Chalmers': 1, 'contra Dennett': 1, 'Howard Gardiner': 1, 'Gardiner': 2}\n"
          ]
        }
      ],
      "source": [
        "personalMentions={}\n",
        "\n",
        "@Language.component(\"person_counter\")\n",
        "def my_component(doc):\n",
        "  for ent in doc.ents:\n",
        "    if ent.label_==\"PERSON\":\n",
        "      if ent.text in personalMentions.keys():\n",
        "        personalMentions[ent.text]+=1\n",
        "      else:\n",
        "        personalMentions[ent.text]=1\n",
        "  return doc\n",
        "\n",
        "nlp = spacy.load(\"en_core_web_sm\")\n",
        "nlp.add_pipe(\"person_counter\", name=\"person_counter\", after=\"ner\")\n",
        "print(nlp.pipe_names)\n",
        "docs = list(nlp.pipe(lines))\n",
        "print(personalMentions)"
      ]
    },
    {
      "cell_type": "code",
      "execution_count": 64,
      "metadata": {
        "colab": {
          "base_uri": "https://localhost:8080/"
        },
        "id": "2suo81Ldclm2",
        "outputId": "45572083-b34a-49d1-b4b0-567f2bb40ead"
      },
      "outputs": [
        {
          "name": "stdout",
          "output_type": "stream",
          "text": [
            "{'Ned': 'Ned Block', 'Block': 'Ned Block', 'Jack': 'Jack Copeland', 'Copeland': 'Jack Copeland', 'Daniel': 'Daniel Tammet', 'Dennett': 'contra Dennett', 'Douglas': 'Douglas Hofstadter', 'Hofstadter': 'Douglas Hofstadter', 'Jerry': 'Jerry Fodor’s', 'Fodor': 'Jerry Fodor', 'John': 'John Searle', 'Haugeland': 'John Haugeland', 'Ray': 'Similarly Ray Kurzweil', 'Kurzweil': 'Similarly Ray Kurzweil', 'Georges': 'Georges Rey', 'Rey': 'Georges Rey', 'Margaret': 'Margaret Boden', 'Boden': 'Margaret Boden', 'Stevan': 'Stevan Harnad', 'Harnad': 'Stevan Harnad', 'Virtual': 'Virtual Mind', 'Mind': 'Transcendent Mind', 'Tim': 'Tim Crane', 'Maudlin': 'Tim Maudlin', 'Richard': 'Richard Hanley', 'Hanley': 'Richard Hanley', 'Patrick': 'Patrick Hayes', 'Hayes': 'Patrick Hayes', 'Don': 'Don Perlis', 'Perlis': 'Don Perlis', 'Turing': 'Turing Test', 'Test': 'Turing Test', 'Roger': 'Roger Schank', 'Penrose': 'Roger Penrose', 'Kurt': 'Kurt Gödel’s', 'Gödel’s': 'Kurt Gödel’s', 'Christian': 'Christian Kaernbach', 'Kaernbach': 'Christian Kaernbach', 'Crane': 'Tim Crane', 'Hans': 'Hans Moravec', 'Moravec': 'Hans Moravec', 'E.g': 'E.g Carter', 'Carter': 'E.g Carter', 'Hilary': 'Hilary Putnam', 'Putnam': 'Hilary Putnam', 'David': 'David Chalmers', 'Lewis': 'David Lewis', 'Helen': 'Helen Keller', 'Keller': 'Helen Keller', 'Fodor’s': 'Jerry Fodor’s', 'Schank': 'Roger Schank', 'Patricia': 'Patricia Churchland', 'Churchland': 'Patricia Churchland', 'Suppose': 'Suppose Otto', 'Otto': 'Suppose Otto', 'Searle': 'John Searle', 'Systems': 'Systems Reply', 'Reply': 'Systems Reply', 'Rod': 'Rod Serling’s', 'Serling’s': 'Rod Serling’s', 'Steven': 'Steven Pinker', 'Pinker': 'Steven Pinker', 'Andy': 'Andy Clark', 'Clark': 'Andy Clark', 'William': 'William Lycan', 'Lycan': 'William Lycan', 'Similarly': 'Similarly Ray Kurzweil', 'Terry': 'Terry Horgan', 'Horgan': 'Terry Horgan', 'Tammet': 'Daniel Tammet', 'Transcendent': 'Transcendent Mind', 'Rudolf': 'Rudolf Carnap', 'Carnap': 'Rudolf Carnap', 'Paul': 'Paul Thagard', 'Thagard': 'Paul Thagard', 'Chalmers': 'David Chalmers', 'contra': 'contra Dennett', 'Howard': 'Howard Gardiner', 'Gardiner': 'Howard Gardiner'}\n",
            "Rey\n",
            "Kurzweil\n",
            "Boden\n",
            "Clark\n",
            "Otto\n",
            "Harnad\n",
            "Block\n",
            "Maudlin\n",
            "Perlis\n",
            "Chalmers\n",
            "Schank\n",
            "Mind\n",
            "Penrose\n",
            "Paul\n",
            "Dennett\n",
            "Moravec\n",
            "Hans\n",
            "Gardiner\n"
          ]
        }
      ],
      "source": [
        "#Merging last names with full names\n",
        "\n",
        "keys = list(personalMentions.keys())\n",
        "splitkeys = {splitkey:key for key in keys for splitkey in key.split(\" \") if key.find(\" \")>=0}\n",
        "print(splitkeys)\n",
        "\n",
        "for key in keys:\n",
        "  if key.find(\" \")<0:\n",
        "    if key in splitkeys.keys():\n",
        "      print(key)\n",
        "      personalMentions[splitkeys[key]] += personalMentions[key]\n",
        "      personalMentions.pop(key)"
      ]
    },
    {
      "cell_type": "code",
      "execution_count": 65,
      "metadata": {
        "colab": {
          "base_uri": "https://localhost:8080/"
        },
        "id": "0ZO-Q_X4hzoM",
        "outputId": "7fd09652-592e-4050-d40f-278c8fce4d27"
      },
      "outputs": [
        {
          "name": "stdout",
          "output_type": "stream",
          "text": [
            "{'Ned Block': 3, 'Jack Copeland': 2, 'Daniel Dennett': 4, 'Douglas Hofstadter': 1, 'Jerry Fodor': 3, 'John Haugeland': 2, 'Ray Kurzweil': 1, 'Georges Rey': 8, 'Margaret Boden': 5, 'Shaffer': 2, 'Stevan Harnad': 10, 'Virtual Mind': 8, 'Tim Maudlin': 8, 'Minsky': 1, 'Richard Hanley': 1, 'Patrick Hayes': 1, 'Don Perlis': 3, 'Turing Test': 2, 'Mao': 1, 'Roger Penrose': 2, 'Kurt Gödel’s': 1, 'Gödel': 1, 'Christian Kaernbach': 1, 'Robot': 2, 'Tim Crane': 2, 'Hans Moravec': 6, 'Vat': 1, 'E.g Carter': 1, 'Hilary Putnam': 1, 'David Lewis': 1, 'Helen Keller': 1, 'Jerry Fodor’s': 1, 'Roger Schank': 2, 'Patricia Churchland': 2, 'Suppose Otto': 4, 'Otto’s': 4, 'John Searle': 1, 'Systems Reply': 1, 'Rod Serling’s': 1, 'Steven Pinker': 4, 'Andy Clark': 8, 'William Lycan': 1, 'Similarly Ray Kurzweil': 2, 'Terry Horgan': 1, 'Wittgenstein': 1, 'Daniel Tammet': 1, 'Intentionality': 1, 'Robotics': 1, 'Transcendent Mind': 2, 'Wakefield': 1, 'Aliens': 1, 'SAM': 1, 'Simon': 3, 'Eisenstadt': 2, 'Rudolf Carnap': 1, 'Paul Thagard': 3, 'David Chalmers': 2, 'contra Dennett': 8, 'Howard Gardiner': 3}\n"
          ]
        }
      ],
      "source": [
        "print(personalMentions)"
      ]
    },
    {
      "cell_type": "markdown",
      "metadata": {
        "id": "XVmzVQcvjfwu"
      },
      "source": [
        "# Using Pandas with spaCy pipelines\n",
        "\n",
        "\"normalize\" text"
      ]
    },
    {
      "cell_type": "code",
      "execution_count": null,
      "metadata": {
        "colab": {
          "base_uri": "https://localhost:8080/"
        },
        "id": "Ha46TKSpjMc4",
        "outputId": "c04ff744-5a04-42c4-8664-e3450fd06afa"
      },
      "outputs": [],
      "source": [
        "gdown.download(\"https://drive.google.com/file/d/1Oti4rfwPJcd4S79GOvzZPP9OCO7shnAd/view?usp=sharing\", \"winemag-data-130k-v2.json\")\n",
        "\n",
        "df = pd.read_json(\"winemag-data-130k-v2.json\")"
      ]
    },
    {
      "cell_type": "code",
      "execution_count": null,
      "metadata": {
        "colab": {
          "base_uri": "https://localhost:8080/",
          "height": 642
        },
        "id": "MF9o13ctl8f-",
        "outputId": "488bcd42-8a3b-4d38-c7f4-628d43201e11"
      },
      "outputs": [],
      "source": [
        "df.head()"
      ]
    },
    {
      "cell_type": "code",
      "execution_count": null,
      "metadata": {
        "colab": {
          "base_uri": "https://localhost:8080/"
        },
        "id": "IXoOvSbbheUO",
        "outputId": "f34ba4a6-fa05-46af-fff1-5fc4b3094103"
      },
      "outputs": [],
      "source": [
        "df.info()"
      ]
    },
    {
      "cell_type": "code",
      "execution_count": null,
      "metadata": {
        "id": "7JM0TgDscxWO"
      },
      "outputs": [],
      "source": [
        "nlp = spacy.load(\"en_core_web_sm\", disable=[\"ner\",\"parser\"])"
      ]
    },
    {
      "cell_type": "markdown",
      "metadata": {
        "id": "MAYTrIoWnQGi"
      },
      "source": [
        "Using 20k only to keep computation times low"
      ]
    },
    {
      "cell_type": "code",
      "execution_count": null,
      "metadata": {
        "id": "sGNVPdKVnQlN"
      },
      "outputs": [],
      "source": [
        "df = df[:20000]"
      ]
    },
    {
      "cell_type": "markdown",
      "metadata": {
        "id": "DK7GQaD_ncHn"
      },
      "source": [
        "- Computation as a single block so spaCy can batch efficiently\n",
        "- Filtering as an apply function"
      ]
    },
    {
      "cell_type": "code",
      "execution_count": null,
      "metadata": {
        "colab": {
          "base_uri": "https://localhost:8080/"
        },
        "id": "9EY9aemzffhm",
        "outputId": "fe99cd93-5e54-4ba9-b004-3d58f048f4e8"
      },
      "outputs": [],
      "source": [
        "%%time\n",
        "df[\"doc\"] = list(nlp.pipe(df[\"description\"], batch_size=4096))"
      ]
    },
    {
      "cell_type": "code",
      "execution_count": null,
      "metadata": {
        "id": "4DltrhVRfkao"
      },
      "outputs": [],
      "source": [
        "def prepare_text(doc):\n",
        "  filtered_list = []\n",
        "  for token in doc:\n",
        "    if token.is_alpha and not token.is_stop and not token.is_punct:\n",
        "      filtered_list.append(token.lemma_.lower())\n",
        "\n",
        "  return \" \".join(filtered_list)"
      ]
    },
    {
      "cell_type": "code",
      "execution_count": null,
      "metadata": {
        "id": "dMsZGU0woDs6"
      },
      "outputs": [],
      "source": [
        "df[\"normalized_text\"] = df[\"doc\"].apply(prepare_text)"
      ]
    },
    {
      "cell_type": "code",
      "execution_count": null,
      "metadata": {
        "id": "nPlHj8Z1ryK7"
      },
      "outputs": [],
      "source": [
        "df[\"price\"] = df[\"price\"].fillna(df[\"price\"].mean())"
      ]
    },
    {
      "cell_type": "code",
      "execution_count": null,
      "metadata": {
        "colab": {
          "base_uri": "https://localhost:8080/",
          "height": 1000
        },
        "id": "oyhY6Vt2oa11",
        "outputId": "c594438b-5748-4034-bc2c-d70078921ea5"
      },
      "outputs": [],
      "source": [
        "with pd.option_context('display.max_colwidth', None):\n",
        "  display(df[[\"description\",\"normalized_text\",\"price\"]])"
      ]
    },
    {
      "cell_type": "markdown",
      "metadata": {
        "id": "LcyWm36KvJPs"
      },
      "source": [
        "# Exploring some basic data connections\n",
        "\n",
        "How does the average length of the words (lemmas) used to describe the product affect the price?"
      ]
    },
    {
      "cell_type": "code",
      "execution_count": null,
      "metadata": {
        "id": "652-uzT1sXyf"
      },
      "outputs": [],
      "source": [
        "df[\"avg_lemma_len\"] = df[\"normalized_text\"].apply(lambda x: len(x)/len(x.split(\" \")))"
      ]
    },
    {
      "cell_type": "code",
      "execution_count": null,
      "metadata": {
        "colab": {
          "base_uri": "https://localhost:8080/",
          "height": 449
        },
        "id": "RQ4lgKnnoyrX",
        "outputId": "ef6848c3-4fe4-4687-e051-a8e030c1bbcf"
      },
      "outputs": [],
      "source": [
        "import matplotlib.pyplot as plt\n",
        "\n",
        "plt.scatter(df[\"avg_lemma_len\"],df[\"price\"])\n",
        "plt.xlabel(\"Avg word len\")\n",
        "plt.ylabel(\"Price\");"
      ]
    },
    {
      "cell_type": "code",
      "execution_count": null,
      "metadata": {
        "id": "QD0AA84vtJqG"
      },
      "outputs": [],
      "source": [
        "import numpy as np\n",
        "\n",
        "stepnum = 15\n",
        "steps = np.linspace(5,10,stepnum)\n",
        "\n",
        "bin_center = np.zeros(stepnum-1)\n",
        "bin_avg_price = np.zeros(stepnum-1)\n",
        "\n",
        "for i in range(stepnum-1):\n",
        "  bin_center[i] = (steps[i]+steps[i+1])/2.0\n",
        "  bin_avg_price[i] = df[\"price\"][(df[\"avg_lemma_len\"]>=steps[i]) & (df[\"avg_lemma_len\"]<steps[i+1])].median()"
      ]
    },
    {
      "cell_type": "code",
      "execution_count": null,
      "metadata": {
        "colab": {
          "base_uri": "https://localhost:8080/",
          "height": 449
        },
        "id": "hYHoFiekurMV",
        "outputId": "d63bc4d7-2c36-4da1-b250-3eaac0a1e704"
      },
      "outputs": [],
      "source": [
        "plt.plot(bin_center, bin_avg_price)\n",
        "plt.xlabel(\"Average description word length\")\n",
        "plt.ylabel(\"Average price\")\n",
        "plt.grid()"
      ]
    },
    {
      "cell_type": "markdown",
      "metadata": {
        "id": "8JQUrKX23Qmf"
      },
      "source": [
        "Could the extreme values cause this change? What measure to use then?\n",
        "\n",
        "\n",
        "(median)"
      ]
    },
    {
      "cell_type": "code",
      "execution_count": null,
      "metadata": {
        "id": "VWmYoGHQu0xI"
      },
      "outputs": [],
      "source": []
    }
  ],
  "metadata": {
    "accelerator": "GPU",
    "colab": {
      "provenance": []
    },
    "gpuClass": "standard",
    "kernelspec": {
      "display_name": "base",
      "language": "python",
      "name": "python3"
    },
    "language_info": {
      "codemirror_mode": {
        "name": "ipython",
        "version": 3
      },
      "file_extension": ".py",
      "mimetype": "text/x-python",
      "name": "python",
      "nbconvert_exporter": "python",
      "pygments_lexer": "ipython3",
      "version": "3.10.13"
    }
  },
  "nbformat": 4,
  "nbformat_minor": 0
}
